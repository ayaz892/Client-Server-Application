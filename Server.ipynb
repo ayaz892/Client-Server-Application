{
 "cells": [
  {
   "cell_type": "code",
   "execution_count": null,
   "id": "8118a661",
   "metadata": {},
   "outputs": [
    {
     "name": "stdout",
     "output_type": "stream",
     "text": [
      "Socket connection create\n",
      "Wait for the  connection\n",
      "onnection successful from ('127.0.0.1', 58431)\n",
      "Enter Message: hello kesai ho\n",
      "mai theek\n"
     ]
    }
   ],
   "source": [
    "import socket\n",
    "s=socket.socket()\n",
    "print('Socket connection create')\n",
    "s.bind(('localhost',8585))\n",
    "s.listen(5)\n",
    "\n",
    "print('Wait for the  connection')\n",
    "\n",
    "while True:\n",
    "    c,addr=s.accept()\n",
    "    print('onnection successful from',addr)\n",
    "    msg=input(\"Enter Message: \")\n",
    "    c.send(bytes(msg,'utf-8'))\n",
    "    print(c.recv(1024).decode())"
   ]
  },
  {
   "cell_type": "code",
   "execution_count": null,
   "id": "c6a8e797",
   "metadata": {},
   "outputs": [],
   "source": []
  }
 ],
 "metadata": {
  "kernelspec": {
   "display_name": "Python 3 (ipykernel)",
   "language": "python",
   "name": "python3"
  },
  "language_info": {
   "codemirror_mode": {
    "name": "ipython",
    "version": 3
   },
   "file_extension": ".py",
   "mimetype": "text/x-python",
   "name": "python",
   "nbconvert_exporter": "python",
   "pygments_lexer": "ipython3",
   "version": "3.9.13"
  }
 },
 "nbformat": 4,
 "nbformat_minor": 5
}
